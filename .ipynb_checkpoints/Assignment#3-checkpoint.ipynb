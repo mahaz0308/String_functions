{
 "cells": [
  {
   "cell_type": "markdown",
   "metadata": {},
   "source": [
    "# Python Program to Add a Key-Value Pair to the Dictionary "
   ]
  },
  {
   "cell_type": "code",
   "execution_count": 18,
   "metadata": {},
   "outputs": [
    {
     "name": "stdout",
     "output_type": "stream",
     "text": [
      "enter a key to add in dict(int_type):56\n",
      "enter a value to add in dict(int_type):67\n",
      "{56: 67}\n"
     ]
    }
   ],
   "source": [
    "dic={}\n",
    "key=int(input(\"enter a key to add in dict(int_type):\"))\n",
    "value=int(input(\"enter a value to add in dict(int_type):\"))\n",
    "dic.update({key:value})\n",
    "print(dic)"
   ]
  },
  {
   "cell_type": "markdown",
   "metadata": {},
   "source": [
    "# Python Program to Concatenate Two Dictionaries Into One"
   ]
  },
  {
   "cell_type": "code",
   "execution_count": 21,
   "metadata": {},
   "outputs": [
    {
     "name": "stdout",
     "output_type": "stream",
     "text": [
      "{'name': 'mahaz', 'age': 23, 'class': 12, 'gender': 'male'}\n"
     ]
    }
   ],
   "source": [
    "dic1={\"name\":\"mahaz\",\"age\":23}\n",
    "dic2={\"class\":12,\"gender\":\"male\"}\n",
    "dic1.update(dic2)\n",
    "print(dic1)"
   ]
  },
  {
   "cell_type": "markdown",
   "metadata": {},
   "source": [
    "# Python Program to Check if a Given Key Exists in a Dictionary or Not"
   ]
  },
  {
   "cell_type": "code",
   "execution_count": 44,
   "metadata": {},
   "outputs": [
    {
     "name": "stdout",
     "output_type": "stream",
     "text": [
      "enter key to find its present or not: a\n",
      "this key is present \n"
     ]
    }
   ],
   "source": [
    "dict1={\"a\":1,\"b\":4,\"c\":5}\n",
    "user=input(\"enter key to find its present or not: \")\n",
    "if user in dict1.keys():\n",
    "    print(\"this key is present \")\n",
    "else:\n",
    "    print(\"this key is not exist\")"
   ]
  },
  {
   "cell_type": "markdown",
   "metadata": {},
   "source": [
    "# Python Program to Generate a Dictionary that Contains Numbers (between 1 and n) in the Form (x,x*x)."
   ]
  },
  {
   "cell_type": "code",
   "execution_count": 49,
   "metadata": {},
   "outputs": [
    {
     "name": "stdout",
     "output_type": "stream",
     "text": [
      "enter number:5\n",
      "{1: 1, 2: 4, 3: 9, 4: 16}\n"
     ]
    }
   ],
   "source": [
    "dic={}\n",
    "user=int(input(\"enter number:\"))\n",
    "number=range(1,user)\n",
    "for n in number:\n",
    "    dic[n]=n*n\n",
    "print(dic)    \n"
   ]
  },
  {
   "cell_type": "markdown",
   "metadata": {},
   "source": [
    "# Python Program to Sum All the Items in a Dictionary "
   ]
  },
  {
   "cell_type": "code",
   "execution_count": 12,
   "metadata": {},
   "outputs": [
    {
     "name": "stdout",
     "output_type": "stream",
     "text": [
      "sum of all vlues is: 15\n",
      "sum of all values is: 15\n"
     ]
    }
   ],
   "source": [
    "dic={\"a\":1,\"b\":5,\"c\":9}\n",
    "summ=sum(dic.values())\n",
    "print(\"sum of all vlues is:\",summ)\n",
    "#or:\n",
    "n=list(dic.values())\n",
    "n=n[0]+n[1]+n[2]\n",
    "print(\"sum of all values is:\",n)\n"
   ]
  },
  {
   "cell_type": "markdown",
   "metadata": {},
   "source": [
    "# Python Program to Multiply All the Items in a Dictionary  "
   ]
  },
  {
   "cell_type": "code",
   "execution_count": 18,
   "metadata": {},
   "outputs": [
    {
     "name": "stdout",
     "output_type": "stream",
     "text": [
      "45\n"
     ]
    }
   ],
   "source": [
    "dic={\"a\":1,\"b\":5,\"c\":9}\n",
    "n=list(dic.values())\n",
    "n=n[0]*n[1]*n[2]\n",
    "print(n)    \n",
    "    "
   ]
  },
  {
   "cell_type": "markdown",
   "metadata": {},
   "source": [
    "# Python Program to Remove the Given Key from a Dictionary"
   ]
  },
  {
   "cell_type": "code",
   "execution_count": 20,
   "metadata": {},
   "outputs": [
    {
     "name": "stdout",
     "output_type": "stream",
     "text": [
      "enter key to remove(alpha_bets):a\n",
      "{'b': 5, 'c': 9}\n"
     ]
    }
   ],
   "source": [
    "dic={\"a\":1,\"b\":5,\"c\":9}\n",
    "user=input(\"enter key to remove(alpha_bets):\")\n",
    "if user in dic.keys():\n",
    "    dic.pop(user)\n",
    "    print(dic)\n",
    "else:\n",
    "    print(\"this key is not exist\")\n"
   ]
  },
  {
   "cell_type": "markdown",
   "metadata": {},
   "source": [
    "# Python Program to Map Two Lists into a Dictionary"
   ]
  },
  {
   "cell_type": "code",
   "execution_count": 23,
   "metadata": {},
   "outputs": [
    {
     "name": "stdout",
     "output_type": "stream",
     "text": [
      "enter value to add in lis1:1\n",
      "enter value to add in lis2:2\n",
      "enter value to add in lis1:3\n",
      "enter value to add in lis2:4\n",
      "enter value to add in lis1:5\n",
      "enter value to add in lis2:6\n",
      "{1: 2, 3: 4, 5: 6}\n"
     ]
    }
   ],
   "source": [
    "lis1=[]\n",
    "lis2=[]\n",
    "for i in range(1,4):\n",
    "    user=int(input(\"enter value to add in lis1:\"))\n",
    "    lis1.append(user)\n",
    "    user=int(input(\"enter value to add in lis2:\"))\n",
    "    lis2.append(user)\n",
    "l=zip(lis1,lis2)\n",
    "print(dict(l))"
   ]
  },
  {
   "cell_type": "markdown",
   "metadata": {},
   "source": [
    "# Python Program to Count the Frequency of Words Appearing in a String Using a Dictionary"
   ]
  },
  {
   "cell_type": "code",
   "execution_count": 24,
   "metadata": {},
   "outputs": [
    {
     "name": "stdout",
     "output_type": "stream",
     "text": [
      "enter a string :aa bb aa aa aa \n",
      "{'aa': 4, 'bb': 1}\n"
     ]
    }
   ],
   "source": [
    "dic={}\n",
    "user=input(\"enter a string :\")\n",
    "string = user.split()\n",
    "for i in string:\n",
    "    if i in dic:\n",
    "        dic[i]+=1\n",
    "    else:\n",
    "        dic[i]=1\n",
    "print(dic)        "
   ]
  },
  {
   "cell_type": "markdown",
   "metadata": {},
   "source": [
    "# Python Program to Create a Dictionary with Key as First Character and Value as Words Starting with that Characte"
   ]
  },
  {
   "cell_type": "code",
   "execution_count": 26,
   "metadata": {},
   "outputs": [
    {
     "name": "stdout",
     "output_type": "stream",
     "text": [
      "enter stringmy name is mahaz\n",
      "['my', 'name', 'is', 'mahaz']\n",
      "{'m': 'my', 'n': 'name', 'i': 'is'}\n"
     ]
    }
   ],
   "source": [
    "string=input(\"enter string\")\n",
    "lis=list(string.split())\n",
    "print(lis)\n",
    "dic={}\n",
    "for i in lis:\n",
    "    if (i[0] not in dic.keys()):\n",
    "        dic[(i[0])]=i\n",
    "print(dic)        "
   ]
  },
  {
   "cell_type": "code",
   "execution_count": null,
   "metadata": {},
   "outputs": [],
   "source": [
    "dict.clear()"
   ]
  }
 ],
 "metadata": {
  "kernelspec": {
   "display_name": "Python 3",
   "language": "python",
   "name": "python3"
  },
  "language_info": {
   "codemirror_mode": {
    "name": "ipython",
    "version": 3
   },
   "file_extension": ".py",
   "mimetype": "text/x-python",
   "name": "python",
   "nbconvert_exporter": "python",
   "pygments_lexer": "ipython3",
   "version": "3.7.3"
  }
 },
 "nbformat": 4,
 "nbformat_minor": 2
}
