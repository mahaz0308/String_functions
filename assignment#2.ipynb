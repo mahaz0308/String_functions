{
 "cells": [
  {
   "cell_type": "markdown",
   "metadata": {},
   "source": [
    "# second largest in list"
   ]
  },
  {
   "cell_type": "code",
   "execution_count": null,
   "metadata": {},
   "outputs": [],
   "source": [
    "lst=[]\n",
    "for i in range(0,5):\n",
    "    user=int(input(\"enter a number to add in list:\"))\n",
    "    lst.append(user)\n",
    "lst.sort()\n",
    "print(\"list of number is:\"+str(lst))\n",
    "n=(len(lst))\n",
    "print(\"the second largest no in list is:\"+str(lst[n-2]))\n"
   ]
  },
  {
   "cell_type": "markdown",
   "metadata": {},
   "source": [
    "# union of two list"
   ]
  },
  {
   "cell_type": "code",
   "execution_count": null,
   "metadata": {},
   "outputs": [],
   "source": [
    "list1=[]\n",
    "list2=[]\n",
    "print(\"this is first list\")\n",
    "for i in range(0,5):\n",
    "    user=int(input(\"enter a number to add in first list:\"))\n",
    "    list1.append(user)\n",
    "print(\"this is second list\")    \n",
    "for j in range(0,5):\n",
    "    user2=int(input(\"enter a number to add in second list:\"))\n",
    "    list2.append(user2)\n",
    "print(\"list_1 is:\"+str(list1))\n",
    "print(\"list_2 is:\"+str(list2))\n",
    "list3=[]\n",
    "for i in list1:\n",
    "    for j in list2:\n",
    "        if i==j:\n",
    "            list3.append(i)\n",
    "print(\"this is union set of two list\"+str(list3))"
   ]
  },
  {
   "cell_type": "markdown",
   "metadata": {},
   "source": [
    "# area of triange"
   ]
  },
  {
   "cell_type": "code",
   "execution_count": null,
   "metadata": {},
   "outputs": [],
   "source": [
    "lift=float(input(\"enter the lift side of triangle:\"))\n",
    "right=float(input(\"enter the right side of triangle:\"))\n",
    "ground=float(input(\"enter the ground side of triangle:\"))\n",
    "s=(lift+right+ground)/2\n",
    "area=(s*(s-lift)*(s-right)*(s-ground)) ** 0.5\n",
    "print(\"the area of triangle is:%f\"%area)\n"
   ]
  },
  {
   "cell_type": "markdown",
   "metadata": {},
   "source": [
    "# exchange value of variable"
   ]
  },
  {
   "cell_type": "code",
   "execution_count": null,
   "metadata": {},
   "outputs": [],
   "source": [
    "value1=int(input(\"enter first value:\"))\n",
    "value2=int(input(\"enter second value:\"))\n",
    "value1=value1+value2\n",
    "value2=value1-value2\n",
    "value1=value1-value2\n",
    "print(\"first value is:\"+str(value1))\n",
    "print(\"second value is:\"+str(value2))\n"
   ]
  },
  {
   "cell_type": "markdown",
   "metadata": {},
   "source": [
    "# find positive negative num"
   ]
  },
  {
   "cell_type": "code",
   "execution_count": null,
   "metadata": {},
   "outputs": [],
   "source": [
    "user=int(input(\"enter a number: \"))\n",
    "if user>=0:\n",
    "    print(\"this is positive number!\")\n",
    "else:\n",
    "    print(\"this is negative! \")\n"
   ]
  },
  {
   "cell_type": "markdown",
   "metadata": {},
   "source": [
    "# reminder quotient"
   ]
  },
  {
   "cell_type": "code",
   "execution_count": null,
   "metadata": {},
   "outputs": [],
   "source": [
    "def quotient():\n",
    "    result=num1//num2\n",
    "    print(\"Quotient is: \"+str(result))\n",
    "def reminder():\n",
    "    result=num1%num2\n",
    "    print(\"Reminder: \"+str(result))\n",
    "num1=int(input(\"Enter first number :\"))\n",
    "num2=int(input(\"Enter second number :\"))\n",
    "user=input(\"Press 1 to find Quotient and Press 2 to find Reminder!\")\n",
    "if user==\"1\":\n",
    "    quotient()\n",
    "elif user==\"2\":\n",
    "    reminder()\n",
    "else:\n",
    "    print(\"You press wrong button!\")\n"
   ]
  },
  {
   "cell_type": "markdown",
   "metadata": {},
   "source": [
    "# largest number in list"
   ]
  },
  {
   "cell_type": "code",
   "execution_count": null,
   "metadata": {},
   "outputs": [],
   "source": [
    "even=[]\n",
    "odd=[]\n",
    "for i in range(0,11):\n",
    "    user=int(input(\"enter a number for add in list:\"))\n",
    "    if i%2==0:\n",
    "        even.append(user)\n",
    "    else:\n",
    "        odd.append(user)\n",
    "print(\"this is even number:\"+str(even))        \n",
    "print(\"this is odd number:\"+str(odd))\n",
    "even.sort()\n",
    "odd.sort()\n",
    "e=(len(even))\n",
    "o=(len(odd))\n",
    "print(\"this is the largest no in even_list:\"+str(even[e-1]))\n",
    "print(\"this is the largest no in odd_list:\"+str(odd[0-1]))\n",
    "\n",
    "        \n"
   ]
  },
  {
   "cell_type": "markdown",
   "metadata": {},
   "source": [
    "# find grade"
   ]
  },
  {
   "cell_type": "code",
   "execution_count": null,
   "metadata": {},
   "outputs": [],
   "source": [
    "lst=[]\n",
    "subj=[]\n",
    "for i in range(0,6):\n",
    "    user=input(\"Enter your subject name: \")\n",
    "    lst.append(user)\n",
    "    usr=int(input(\"enter your marks: \"))\n",
    "    lst.append(usr)      \n",
    "    if usr>=90:\n",
    "        print(\"you got A grade\")\n",
    "    elif usr>=80:\n",
    "        print(\"you got B grade\")\n",
    "    elif usr>=70:\n",
    "        print(\"you got C grade\")\n",
    "    elif usr>=60:\n",
    "        print(\"you got D grade\")\n",
    "    elif usr>=50:\n",
    "        print(\"you got -D grade\")\n",
    "    else:\n",
    "        print(\"your fail!\")\n",
    "       "
   ]
  },
  {
   "cell_type": "markdown",
   "metadata": {},
   "source": [
    "# divider non_divider"
   ]
  },
  {
   "cell_type": "code",
   "execution_count": null,
   "metadata": {},
   "outputs": [],
   "source": [
    "for i in range(0,51):\n",
    "    if i%2!=0 or i%3!=0:\n",
    "        print(str(i)+\" is not devide by 2 or 3\")\n",
    "    else:\n",
    "        print(str(i)+\" is devide by 2 or 3\")"
   ]
  },
  {
   "cell_type": "code",
   "execution_count": null,
   "metadata": {},
   "outputs": [],
   "source": []
  }
 ],
 "metadata": {
  "kernelspec": {
   "display_name": "Python 3",
   "language": "python",
   "name": "python3"
  },
  "language_info": {
   "codemirror_mode": {
    "name": "ipython",
    "version": 3
   },
   "file_extension": ".py",
   "mimetype": "text/x-python",
   "name": "python",
   "nbconvert_exporter": "python",
   "pygments_lexer": "ipython3",
   "version": "3.7.3"
  }
 },
 "nbformat": 4,
 "nbformat_minor": 2
}
