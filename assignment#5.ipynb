{
 "cells": [
  {
   "cell_type": "code",
   "execution_count": 1,
   "metadata": {},
   "outputs": [
    {
     "ename": "IndentationError",
     "evalue": "unexpected indent (<ipython-input-1-f7d4d999d4b5>, line 2)",
     "output_type": "error",
     "traceback": [
      "\u001b[1;36m  File \u001b[1;32m\"<ipython-input-1-f7d4d999d4b5>\"\u001b[1;36m, line \u001b[1;32m2\u001b[0m\n\u001b[1;33m    a. value b. item d. key\u001b[0m\n\u001b[1;37m    ^\u001b[0m\n\u001b[1;31mIndentationError\u001b[0m\u001b[1;31m:\u001b[0m unexpected indent\n"
     ]
    }
   ],
   "source": [
    "1. Which of the following terms are related to dictionaries?\n",
    "         a. value b. item d. key "
   ]
  },
  {
   "cell_type": "code",
   "execution_count": null,
   "metadata": {},
   "outputs": [],
   "source": [
    "2. Just like lists, + operator is used to extend dictionaries?\n",
    "         b. False"
   ]
  },
  {
   "cell_type": "code",
   "execution_count": null,
   "metadata": {},
   "outputs": [],
   "source": [
    "3. To access items from a dictionary, we specify the index of that item within [] like myDict[0]?\n",
    "         b. False "
   ]
  },
  {
   "cell_type": "code",
   "execution_count": 2,
   "metadata": {},
   "outputs": [
    {
     "ename": "SyntaxError",
     "evalue": "invalid syntax (<ipython-input-2-46aa91995371>, line 1)",
     "output_type": "error",
     "traceback": [
      "\u001b[1;36m  File \u001b[1;32m\"<ipython-input-2-46aa91995371>\"\u001b[1;36m, line \u001b[1;32m1\u001b[0m\n\u001b[1;33m    4. When we use [] to access the value from a dictionary which does not exist in that dictionary….?\u001b[0m\n\u001b[1;37m          ^\u001b[0m\n\u001b[1;31mSyntaxError\u001b[0m\u001b[1;31m:\u001b[0m invalid syntax\n"
     ]
    }
   ],
   "source": [
    "4. When we use [] to access the value from a dictionary which does not exist in that dictionary….? \n",
    "        d. None of above"
   ]
  },
  {
   "cell_type": "code",
   "execution_count": null,
   "metadata": {},
   "outputs": [],
   "source": [
    "5. What does return the pop method of a dictionary?\n",
    "      d. value of the key, if it exists in the dictionary"
   ]
  },
  {
   "cell_type": "code",
   "execution_count": null,
   "metadata": {},
   "outputs": [],
   "source": [
    "6. What does return popitem method return?\n",
    "     b. tupple containing the pair of last item of the dictionary"
   ]
  },
  {
   "cell_type": "code",
   "execution_count": null,
   "metadata": {},
   "outputs": [],
   "source": [
    "7. Which of the following 2 methods can be used to iterate through the items of a dictionary?\n",
    "   b. values() d. keys("
   ]
  },
  {
   "cell_type": "code",
   "execution_count": null,
   "metadata": {},
   "outputs": [],
   "source": [
    "8. Which one of the following is used to enclose a dictionary?\n",
    "   b. {} curly brackets"
   ]
  },
  {
   "cell_type": "code",
   "execution_count": null,
   "metadata": {},
   "outputs": [],
   "source": [
    "9.  Write Python Program add key-value pair in dictionary and check if a Given Key or Value or Both Exists in a Dictionary or Not."
   ]
  },
  {
   "cell_type": "markdown",
   "metadata": {},
   "source": [
    "# 9.  Write Python Program add key-value pair in dictionary and check if a Given Key or Value or Both Exists in a Dictionary or Not"
   ]
  },
  {
   "cell_type": "code",
   "execution_count": null,
   "metadata": {},
   "outputs": [],
   "source": [
    "\n",
    "dic={1:2,2:3,3:4,4:5,5:6}\n",
    "user=int(input(\"enter key(int) to find its present or not:\"))\n",
    "if user in dic.keys():\n",
    "    print(\"key is present\")\n",
    "else:\n",
    "    print(\"key is not present\")\n",
    "user=int(input(\"enter value(int) to find its present or not:\"))\n",
    "if user in dic.values():\n",
    "    print(\"values is present\")\n",
    "else:\n",
    "    print(\"values is not present\")    \n"
   ]
  },
  {
   "cell_type": "markdown",
   "metadata": {},
   "source": [
    "# 10. Write a Python Program to Count the Frequency of Words Appearing in a String Using a Dictionary and print only the words having Even (divisible by 2) frequency."
   ]
  },
  {
   "cell_type": "code",
   "execution_count": null,
   "metadata": {},
   "outputs": [],
   "source": [
    "dic1={}\n",
    "strr=[]\n",
    "dic2={}\n",
    "count=0\n",
    "string=input(\"enter string :\")\n",
    "string.split()\n",
    "for i in string:\n",
    "    strr.append(i)\n",
    "    dic1[i]=strr.count(i)\n",
    "print(dic1)\n",
    "for (key,value) in dic1.items():\n",
    "    if value % 2==0:\n",
    "        dic2[key]=value\n",
    "print(dic2)                "
   ]
  },
  {
   "cell_type": "code",
   "execution_count": null,
   "metadata": {},
   "outputs": [],
   "source": [
    "X = [\"Feb\", Apr, Mar, May, Jun, Jul, Aug, Jan]\n",
    "X[0:3] "
   ]
  },
  {
   "cell_type": "code",
   "execution_count": null,
   "metadata": {},
   "outputs": [],
   "source": [
    "X[2:8]"
   ]
  },
  {
   "cell_type": "code",
   "execution_count": 3,
   "metadata": {},
   "outputs": [
    {
     "ename": "NameError",
     "evalue": "name 'X' is not defined",
     "output_type": "error",
     "traceback": [
      "\u001b[1;31m---------------------------------------------------------------------------\u001b[0m",
      "\u001b[1;31mNameError\u001b[0m                                 Traceback (most recent call last)",
      "\u001b[1;32m<ipython-input-3-2c8b46a4d58b>\u001b[0m in \u001b[0;36m<module>\u001b[1;34m\u001b[0m\n\u001b[1;32m----> 1\u001b[1;33m \u001b[0mX\u001b[0m\u001b[1;33m[\u001b[0m\u001b[1;36m4\u001b[0m\u001b[1;33m:\u001b[0m\u001b[1;36m9\u001b[0m\u001b[1;33m]\u001b[0m\u001b[1;33m\u001b[0m\u001b[1;33m\u001b[0m\u001b[0m\n\u001b[0m",
      "\u001b[1;31mNameError\u001b[0m: name 'X' is not defined"
     ]
    }
   ],
   "source": [
    "X[4:9]"
   ]
  },
  {
   "cell_type": "code",
   "execution_count": null,
   "metadata": {},
   "outputs": [],
   "source": [
    "X[1:7:2]"
   ]
  },
  {
   "cell_type": "code",
   "execution_count": null,
   "metadata": {},
   "outputs": [],
   "source": [
    "X[-1:-7] "
   ]
  },
  {
   "cell_type": "code",
   "execution_count": null,
   "metadata": {},
   "outputs": [],
   "source": [
    "X[-7:7] "
   ]
  },
  {
   "cell_type": "code",
   "execution_count": null,
   "metadata": {},
   "outputs": [],
   "source": [
    "X[-1:-8:-2]"
   ]
  },
  {
   "cell_type": "code",
   "execution_count": null,
   "metadata": {},
   "outputs": [],
   "source": [
    "X[:4]"
   ]
  },
  {
   "cell_type": "code",
   "execution_count": null,
   "metadata": {},
   "outputs": [],
   "source": [
    "X =[ 9,2,8,4,5]\n",
    "X.remove(9)  \n",
    "X"
   ]
  },
  {
   "cell_type": "code",
   "execution_count": null,
   "metadata": {},
   "outputs": [],
   "source": [
    "p = 3 \n",
    "q = \"hello!\"\n",
    "print(q*p)"
   ]
  },
  {
   "cell_type": "code",
   "execution_count": null,
   "metadata": {},
   "outputs": [],
   "source": [
    "y = \"this is a random sentence\"\n",
    "y.upper()"
   ]
  },
  {
   "cell_type": "code",
   "execution_count": null,
   "metadata": {},
   "outputs": [],
   "source": [
    "p = True \n",
    "q = \"True\"\n",
    "r = 2 \n",
    "s = 2.0\n",
    "print(type(p))\n",
    "print(type(q))\n",
    "print(type(r))\n",
    "print(type(s))"
   ]
  },
  {
   "cell_type": "code",
   "execution_count": null,
   "metadata": {},
   "outputs": [],
   "source": [
    "16. What are the optional arguments to the function? \n",
    "function_1(R1, q, p=None, R2= None) \n",
    "2) p and R2 \n",
    " "
   ]
  },
  {
   "cell_type": "code",
   "execution_count": null,
   "metadata": {},
   "outputs": [],
   "source": [
    "17. Which command invokes method X() of the object p?  \n",
    "4) p.x()"
   ]
  },
  {
   "cell_type": "code",
   "execution_count": null,
   "metadata": {},
   "outputs": [],
   "source": [
    "X=4\n",
    "Y=2 \n",
    "print(X % Y) \n",
    "print(X / Y) \n",
    "print(X // Y) \n",
    "print(Y % X) "
   ]
  },
  {
   "cell_type": "code",
   "execution_count": null,
   "metadata": {},
   "outputs": [],
   "source": [
    "x = [[4, 1, 1],[5, 9, 0]]\n",
    "for i in x[0]:\n",
    "    for j in x[1]:\n",
    "    print(j)"
   ]
  },
  {
   "cell_type": "code",
   "execution_count": null,
   "metadata": {},
   "outputs": [],
   "source": [
    "x = [[4, 1, 1], [5, 9, 0]] \n",
    "for i in x[0]:\n",
    "    print(i, end=\"\\t\")\n",
    "for j in x[1]:\n",
    "    print(j, end=\"\\t\")\n",
    "    "
   ]
  },
  {
   "cell_type": "code",
   "execution_count": null,
   "metadata": {},
   "outputs": [],
   "source": [
    "x = [[4, 1, 1], [5, 9, 0]] \n",
    "for i,j in x[[0][1]]:\n",
    "    print(i,j)  \n",
    "        "
   ]
  },
  {
   "cell_type": "code",
   "execution_count": null,
   "metadata": {},
   "outputs": [],
   "source": [
    "x = [[4, 1, 1], [5, 9, 0]] \n",
    "for i in x[0]:\n",
    "    print(i, end=\"\\t\")\n",
    "for j in x[1]:\n",
    "    print(j, end=\"\\t\")"
   ]
  },
  {
   "cell_type": "code",
   "execution_count": null,
   "metadata": {},
   "outputs": [],
   "source": [
    "q = [10.62, 16.14, 6.45, 17.11]\n",
    "for j,z in enumerate (q):\n",
    "    print( \"Item \" + str( j ) + \"  - \", str ( z )) "
   ]
  },
  {
   "cell_type": "code",
   "execution_count": null,
   "metadata": {},
   "outputs": [],
   "source": [
    "21. Which of these about a dictionary is false? \n",
    "b) The keys of a dictionary can be accessed using values  "
   ]
  },
  {
   "cell_type": "code",
   "execution_count": null,
   "metadata": {},
   "outputs": [],
   "source": [
    "D1={}  \n",
    "for i in range(3):\n",
    "    for j in range(2):\n",
    "        D1[i] = j\n",
    "print(D1)        "
   ]
  },
  {
   "cell_type": "code",
   "execution_count": null,
   "metadata": {},
   "outputs": [],
   "source": [
    "def avg ( x , y , z =50 ):\n",
    "    adding = x + y + z \n",
    "    avg_value = adding / 3 \n",
    "    return avg_value \n",
    "y = avg ( x = 5 , y = 9 , z = 20 ) \n",
    "print(y)"
   ]
  },
  {
   "cell_type": "code",
   "execution_count": null,
   "metadata": {},
   "outputs": [],
   "source": [
    "def avg (*opt_values , name):\n",
    "    avg_value = sum (opt_values) / len(opt_values) \n",
    "    print(\"name is: \" + name + \"Marks: \" + str(avg_value)) \n",
    "avg(5 , 9 , 20, 34, 87, 112,\"Ali\")"
   ]
  },
  {
   "cell_type": "code",
   "execution_count": null,
   "metadata": {},
   "outputs": [],
   "source": [
    "def avg ( *opt_values,name=\"mahaz\"):\n",
    "    avg_value = sum (opt_values) / len(opt_values) \n",
    "    print(\"name is: \" + name + \" Marks: \" + str(avg_value)) \n",
    "avg ( 5 , 9 , 20, 34, 87, 112) \n",
    "#by giving defult value can remove error: "
   ]
  },
  {
   "cell_type": "code",
   "execution_count": null,
   "metadata": {},
   "outputs": [],
   "source": [
    "def avg (name,*opt_values):\n",
    "    avg_value = sum (opt_values) / len(opt_values) \n",
    "    print(\"name is: \" + name + \" Marks: \" + str(avg_value)) \n",
    "avg (\"mahaz\", 5 , 9 , 20, 34, 87, 112) \n",
    "#positional argumnet first give:"
   ]
  },
  {
   "cell_type": "code",
   "execution_count": null,
   "metadata": {},
   "outputs": [],
   "source": [
    "def avg (*opt_values,name):\n",
    "    avg_value = sum (opt_values) / len(opt_values) \n",
    "    print(\"name is: \" + name + \" Marks: \" + str(avg_value)) \n",
    "avg (name=\"mahaz\",5 , 9 , 20, 34, 87, 112)"
   ]
  },
  {
   "cell_type": "code",
   "execution_count": null,
   "metadata": {},
   "outputs": [],
   "source": [
    "def display_result(winner, score, **other_info): \n",
    "    print(\"The winner was \" + winner) \n",
    "    print(\"The score was \" + score)\n",
    "    for i,j in other_info.items():\n",
    "        print(i +\":\"+ j)\n",
    "    \n",
    "display_result(winner=\"Manchester\", score=\"1-0\", overtime =\"yes\", injuries=\"none\") "
   ]
  },
  {
   "cell_type": "code",
   "execution_count": null,
   "metadata": {},
   "outputs": [],
   "source": [
    "def display_result(winner, score, **other_info): \n",
    "    print(\"The winner was \" + winner) \n",
    "    print(\"The score was \" + score)\n",
    "    for i,j in other_info.items():\n",
    "        print(i +\":\"+ j)\n",
    "display_result(winner=\"Manchester\", score=\"1-0\", overtime =\"yes\", injuries=\"none\",goal=\"2:1\")\n",
    "#the positional argument should first :"
   ]
  },
  {
   "cell_type": "code",
   "execution_count": null,
   "metadata": {},
   "outputs": [],
   "source": [
    "def display_result(winner, **other_info, score): \n",
    " print(\"The winner was \" + winner) \n",
    " print(\"The score was \" + score) \n",
    "display_result(winner=\"Manchester\", overtime =\"yes\", injuries=\"none“ , score=\"1-0\")"
   ]
  },
  {
   "cell_type": "code",
   "execution_count": null,
   "metadata": {},
   "outputs": [],
   "source": [
    "def display_result(winner,score, **other_info): \n",
    " print(\"The winner was \" + winner) \n",
    " print(\"The score was \" + score) \n",
    "display_result(winner=\"Manchester\", overtime =\"yes\", injuries=\"none\" , score=\"1-2\")\n",
    "#positional argument should arrange first in sequence:"
   ]
  },
  {
   "cell_type": "code",
   "execution_count": null,
   "metadata": {},
   "outputs": [],
   "source": [
    "x=123\n",
    "print(\"%06d\"%x)"
   ]
  },
  {
   "cell_type": "code",
   "execution_count": null,
   "metadata": {},
   "outputs": [],
   "source": [
    "x=22.19\n",
    "print(\"%5.2f\"%x) "
   ]
  },
  {
   "cell_type": "code",
   "execution_count": null,
   "metadata": {},
   "outputs": [],
   "source": [
    "'{0:f}, {1:2f}, {2:05.2f}'.format(1.23456, 1.23456, 1.23456) "
   ]
  },
  {
   "cell_type": "code",
   "execution_count": null,
   "metadata": {},
   "outputs": [],
   "source": [
    "i = 1 \n",
    "while False: #loop will not start:no output\n",
    "    if i%2 == 0:#even number just  \n",
    "        break #loop will break on even number\n",
    "    print(i)#print just odd number \n",
    "    i += 2 #i increment by 2"
   ]
  },
  {
   "cell_type": "code",
   "execution_count": null,
   "metadata": {},
   "outputs": [],
   "source": [
    "i = 1 \n",
    "while i<10: \n",
    "    if i%2 == 0: \n",
    "        break \n",
    "    print(i) \n",
    "    i += 2 "
   ]
  },
  {
   "cell_type": "code",
   "execution_count": null,
   "metadata": {},
   "outputs": [],
   "source": [
    "x = \"abcdef\" \n",
    "i = \"a\" \n",
    "while i in x: \n",
    "    x = x[:-1] \n",
    "    print(i, end = \" \")"
   ]
  },
  {
   "cell_type": "code",
   "execution_count": null,
   "metadata": {},
   "outputs": [],
   "source": [
    "for i in ''.join(reversed(list('abcd'))):\n",
    "    print (i)"
   ]
  },
  {
   "cell_type": "code",
   "execution_count": null,
   "metadata": {},
   "outputs": [],
   "source": [
    "for i in ''.join(list('abcd')):\n",
    "    print (i)"
   ]
  },
  {
   "cell_type": "code",
   "execution_count": null,
   "metadata": {},
   "outputs": [],
   "source": [
    "for i in range(10):#i start from zero to 10 \n",
    "    if i == 5:#if i==5 loop will break \n",
    "        break \n",
    "    else:#0 to 4 print \n",
    "        print(i)\n",
    " \n",
    "print(\"Here\") "
   ]
  },
  {
   "cell_type": "code",
   "execution_count": null,
   "metadata": {},
   "outputs": [],
   "source": [
    "y = 6 \n",
    "z = lambda x: x * y \n",
    "print (z(8))"
   ]
  },
  {
   "cell_type": "code",
   "execution_count": null,
   "metadata": {},
   "outputs": [],
   "source": [
    "i=0 \n",
    "def change(i): \n",
    "   i=i+1 \n",
    "   return i \n",
    "change(1) \n",
    "print(i)\n",
    "#no object is created to return and store the value of i from the function\n",
    "#print just value of i that was 1"
   ]
  },
  {
   "cell_type": "code",
   "execution_count": null,
   "metadata": {},
   "outputs": [],
   "source": [
    "i=0 \n",
    "def change(i):\n",
    "    i=i+1 \n",
    "    return i \n",
    "a=change(1) #here object is create to store value\n",
    "print(a)\n"
   ]
  },
  {
   "cell_type": "code",
   "execution_count": null,
   "metadata": {},
   "outputs": [],
   "source": [
    "def change(one, *two): \n",
    "    print(type(two))#here (*two) tuple is created \n",
    "    print(one)\n",
    "    print(two)\n",
    "change(1,2,3,4)#positional argument \n",
    "#one assign 1 and other assign to two"
   ]
  },
  {
   "cell_type": "code",
   "execution_count": null,
   "metadata": {},
   "outputs": [],
   "source": [
    "def find(a, **b):# dict is created(**b) \n",
    "    print(type(b))\n",
    "    for i,j in b.items():#loop to access item in dict\n",
    "        print(i+\"=\"+j)\n",
    "find('letters',A='1',B='2')"
   ]
  },
  {
   "cell_type": "code",
   "execution_count": null,
   "metadata": {},
   "outputs": [],
   "source": [
    "def foo(i, x=[]):#list created\n",
    "    x.append(i) #in list i is add one by one\n",
    "    return x #return list\n",
    "for i in range(3): \n",
    "    print(foo(i))#assign value to funtion one by one through loop"
   ]
  },
  {
   "cell_type": "code",
   "execution_count": null,
   "metadata": {},
   "outputs": [],
   "source": [
    "(3*(1+2)**2-(2**2)*3)#first 1+2 is add then 3**2 is done then 9*3 is done "
   ]
  },
  {
   "cell_type": "code",
   "execution_count": null,
   "metadata": {},
   "outputs": [],
   "source": [
    "45. You are writing code that generates a random integer with a minimum value of 5 and a maximum value of 11. \n",
    "Which two functions should you use? Each correct answer presents a complete solution. (Choose two.) \n",
    "B. random.randint(5, 11)# positional argument assign 5 to min and 11 to max  \n",
    "D. random.randrange(5, 11, 1)# here just step size given one that also by default one"
   ]
  },
  {
   "cell_type": "markdown",
   "metadata": {},
   "source": [
    "# Write a program that receives marks from user and check the grade. "
   ]
  },
  {
   "cell_type": "code",
   "execution_count": null,
   "metadata": {},
   "outputs": [
    {
     "name": "stdout",
     "output_type": "stream",
     "text": [
      "enter your marks:12\n",
      "you got E grade\n",
      "press 1 to continue pres 2 to exist1\n",
      "enter your marks:45\n",
      "you got E grade\n",
      "press 1 to continue pres 2 to exist89\n",
      "enter your marks:80\n",
      "you got B grade\n",
      "press 1 to continue pres 2 to exist90\n",
      "enter your marks:90\n",
      "you got A grade\n"
     ]
    }
   ],
   "source": [
    "i=\"pass\"\n",
    "while i!=\"break\":\n",
    "    user=int(input(\"enter your marks:\"))\n",
    "    if user>=90:\n",
    "        print(\"you got A grade\")\n",
    "    elif user>=80:\n",
    "        print(\"you got B grade\")\n",
    "    elif user>=70:\n",
    "        print(\"you got C grade\")\n",
    "    elif user>=60:\n",
    "        print(\"you got D grade\")\n",
    "    elif user<60:\n",
    "        print(\"you got E grade\")\n",
    "    else:\n",
    "        print(\"enter your marks out of 100\")\n",
    "    us=int(input(\"press 1 to continue pres 2 to exist\"))\n",
    "    if us==2:\n",
    "        i=\"break\"\n",
    "    \n"
   ]
  },
  {
   "cell_type": "code",
   "execution_count": null,
   "metadata": {},
   "outputs": [],
   "source": []
  }
 ],
 "metadata": {
  "kernelspec": {
   "display_name": "Python 3",
   "language": "python",
   "name": "python3"
  },
  "language_info": {
   "codemirror_mode": {
    "name": "ipython",
    "version": 3
   },
   "file_extension": ".py",
   "mimetype": "text/x-python",
   "name": "python",
   "nbconvert_exporter": "python",
   "pygments_lexer": "ipython3",
   "version": "3.7.3"
  }
 },
 "nbformat": 4,
 "nbformat_minor": 2
}
